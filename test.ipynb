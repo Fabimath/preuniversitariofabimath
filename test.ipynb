{
 "cells": [
  {
   "cell_type": "code",
   "execution_count": 34,
   "id": "3a5c5680-efdf-4e7a-a9f3-f4eff8c87a0e",
   "metadata": {},
   "outputs": [
    {
     "data": {
      "text/html": [
       "<style>\n",
       ".list-inline {list-style: none; margin:0; padding: 0}\n",
       ".list-inline>li {display: inline-block}\n",
       ".list-inline>li:not(:last-child)::after {content: \"\\00b7\"; padding: 0 .5ex}\n",
       "</style>\n",
       "<ol class=list-inline><li>120.726</li><li>-49.838</li><li>-69.799</li><li>15.505</li><li>6.81</li><li>-22.011</li><li>49.864</li><li>-58.844</li><li>76.517</li><li>-69.112</li></ol>\n"
      ],
      "text/latex": [
       "\\begin{enumerate*}\n",
       "\\item 120.726\n",
       "\\item -49.838\n",
       "\\item -69.799\n",
       "\\item 15.505\n",
       "\\item 6.81\n",
       "\\item -22.011\n",
       "\\item 49.864\n",
       "\\item -58.844\n",
       "\\item 76.517\n",
       "\\item -69.112\n",
       "\\end{enumerate*}\n"
      ],
      "text/markdown": [
       "1. 120.726\n",
       "2. -49.838\n",
       "3. -69.799\n",
       "4. 15.505\n",
       "5. 6.81\n",
       "6. -22.011\n",
       "7. 49.864\n",
       "8. -58.844\n",
       "9. 76.517\n",
       "10. -69.112\n",
       "\n",
       "\n"
      ],
      "text/plain": [
       " [1] 120.726 -49.838 -69.799  15.505   6.810 -22.011  49.864 -58.844  76.517\n",
       "[10] -69.112"
      ]
     },
     "metadata": {},
     "output_type": "display_data"
    },
    {
     "data": {
      "text/html": [
       "-0.0881104444585019"
      ],
      "text/latex": [
       "-0.0881104444585019"
      ],
      "text/markdown": [
       "-0.0881104444585019"
      ],
      "text/plain": [
       "[1] -0.08811044"
      ]
     },
     "metadata": {},
     "output_type": "display_data"
    },
    {
     "data": {
      "text/html": [
       "<style>\n",
       ".list-inline {list-style: none; margin:0; padding: 0}\n",
       ".list-inline>li {display: inline-block}\n",
       ".list-inline>li:not(:last-child)::after {content: \"\\00b7\"; padding: 0 .5ex}\n",
       "</style>\n",
       "<ol class=list-inline><li>10.789</li><li>6.021</li><li>10.989</li><li>10.817</li><li>8.244</li><li>2.38</li><li>4.214</li><li>6.116</li><li>6.983</li><li>14.214</li></ol>\n"
      ],
      "text/latex": [
       "\\begin{enumerate*}\n",
       "\\item 10.789\n",
       "\\item 6.021\n",
       "\\item 10.989\n",
       "\\item 10.817\n",
       "\\item 8.244\n",
       "\\item 2.38\n",
       "\\item 4.214\n",
       "\\item 6.116\n",
       "\\item 6.983\n",
       "\\item 14.214\n",
       "\\end{enumerate*}\n"
      ],
      "text/markdown": [
       "1. 10.789\n",
       "2. 6.021\n",
       "3. 10.989\n",
       "4. 10.817\n",
       "5. 8.244\n",
       "6. 2.38\n",
       "7. 4.214\n",
       "8. 6.116\n",
       "9. 6.983\n",
       "10. 14.214\n",
       "\n",
       "\n"
      ],
      "text/plain": [
       " [1] 10.789  6.021 10.989 10.817  8.244  2.380  4.214  6.116  6.983 14.214"
      ]
     },
     "metadata": {},
     "output_type": "display_data"
    },
    {
     "data": {
      "image/png": "[encoded data removed]",
      "text/plain": [
       "plot without title"
      ]
     },
     "metadata": {
      "image/png": {
       "height": 420,
       "width": 420
      }
     },
     "output_type": "display_data"
    }
   ],
   "source": [
    "# Pregunta para regresión.\n",
    "set.seed(0)\n",
    "x = round(rnorm(10,7,3),3)\n",
    "y = round((2*rep(1,length(x))+3*x+rnorm(length(x),10,100)),3)\n",
    "y\n",
    "plot(x,y)\n",
    "cor(x,y)\n",
    "x\n",
    "\n",
    "z=y+273.5"
   ]
  },
  {
   "cell_type": "code",
   "execution_count": 35,
   "id": "e7197d1e-408f-4107-8272-6a3304484d2d",
   "metadata": {},
   "outputs": [
    {
     "data": {
      "text/html": [
       "<style>\n",
       ".list-inline {list-style: none; margin:0; padding: 0}\n",
       ".list-inline>li {display: inline-block}\n",
       ".list-inline>li:not(:last-child)::after {content: \"\\00b7\"; padding: 0 .5ex}\n",
       "</style>\n",
       "<ol class=list-inline><li>10.789</li><li>6.021</li><li>10.989</li><li>10.817</li><li>8.244</li><li>2.38</li><li>4.214</li><li>6.116</li><li>6.983</li><li>14.214</li></ol>\n"
      ],
      "text/latex": [
       "\\begin{enumerate*}\n",
       "\\item 10.789\n",
       "\\item 6.021\n",
       "\\item 10.989\n",
       "\\item 10.817\n",
       "\\item 8.244\n",
       "\\item 2.38\n",
       "\\item 4.214\n",
       "\\item 6.116\n",
       "\\item 6.983\n",
       "\\item 14.214\n",
       "\\end{enumerate*}\n"
      ],
      "text/markdown": [
       "1. 10.789\n",
       "2. 6.021\n",
       "3. 10.989\n",
       "4. 10.817\n",
       "5. 8.244\n",
       "6. 2.38\n",
       "7. 4.214\n",
       "8. 6.116\n",
       "9. 6.983\n",
       "10. 14.214\n",
       "\n",
       "\n"
      ],
      "text/plain": [
       " [1] 10.789  6.021 10.989 10.817  8.244  2.380  4.214  6.116  6.983 14.214"
      ]
     },
     "metadata": {},
     "output_type": "display_data"
    }
   ],
   "source": [
    "x"
   ]
  },
  {
   "cell_type": "code",
   "execution_count": 36,
   "id": "f8f9fdd4-9688-4a6f-a316-5192ffb96887",
   "metadata": {},
   "outputs": [
    {
     "data": {
      "text/html": [
       "<style>\n",
       ".list-inline {list-style: none; margin:0; padding: 0}\n",
       ".list-inline>li {display: inline-block}\n",
       ".list-inline>li:not(:last-child)::after {content: \"\\00b7\"; padding: 0 .5ex}\n",
       "</style>\n",
       "<ol class=list-inline><li>120.726</li><li>-49.838</li><li>-69.799</li><li>15.505</li><li>6.81</li><li>-22.011</li><li>49.864</li><li>-58.844</li><li>76.517</li><li>-69.112</li></ol>\n"
      ],
      "text/latex": [
       "\\begin{enumerate*}\n",
       "\\item 120.726\n",
       "\\item -49.838\n",
       "\\item -69.799\n",
       "\\item 15.505\n",
       "\\item 6.81\n",
       "\\item -22.011\n",
       "\\item 49.864\n",
       "\\item -58.844\n",
       "\\item 76.517\n",
       "\\item -69.112\n",
       "\\end{enumerate*}\n"
      ],
      "text/markdown": [
       "1. 120.726\n",
       "2. -49.838\n",
       "3. -69.799\n",
       "4. 15.505\n",
       "5. 6.81\n",
       "6. -22.011\n",
       "7. 49.864\n",
       "8. -58.844\n",
       "9. 76.517\n",
       "10. -69.112\n",
       "\n",
       "\n"
      ],
      "text/plain": [
       " [1] 120.726 -49.838 -69.799  15.505   6.810 -22.011  49.864 -58.844  76.517\n",
       "[10] -69.112"
      ]
     },
     "metadata": {},
     "output_type": "display_data"
    }
   ],
   "source": [
    "y"
   ]
  },
  {
   "cell_type": "code",
   "execution_count": 37,
   "id": "0cd1387c-3849-43a8-b0ee-0d46b595f092",
   "metadata": {},
   "outputs": [
    {
     "data": {
      "text/html": [
       "<style>\n",
       ".list-inline {list-style: none; margin:0; padding: 0}\n",
       ".list-inline>li {display: inline-block}\n",
       ".list-inline>li:not(:last-child)::after {content: \"\\00b7\"; padding: 0 .5ex}\n",
       "</style>\n",
       "<ol class=list-inline><li>394.226</li><li>223.662</li><li>203.701</li><li>289.005</li><li>280.31</li><li>251.489</li><li>323.364</li><li>214.656</li><li>350.017</li><li>204.388</li></ol>\n"
      ],
      "text/latex": [
       "\\begin{enumerate*}\n",
       "\\item 394.226\n",
       "\\item 223.662\n",
       "\\item 203.701\n",
       "\\item 289.005\n",
       "\\item 280.31\n",
       "\\item 251.489\n",
       "\\item 323.364\n",
       "\\item 214.656\n",
       "\\item 350.017\n",
       "\\item 204.388\n",
       "\\end{enumerate*}\n"
      ],
      "text/markdown": [
       "1. 394.226\n",
       "2. 223.662\n",
       "3. 203.701\n",
       "4. 289.005\n",
       "5. 280.31\n",
       "6. 251.489\n",
       "7. 323.364\n",
       "8. 214.656\n",
       "9. 350.017\n",
       "10. 204.388\n",
       "\n",
       "\n"
      ],
      "text/plain": [
       " [1] 394.226 223.662 203.701 289.005 280.310 251.489 323.364 214.656 350.017\n",
       "[10] 204.388"
      ]
     },
     "metadata": {},
     "output_type": "display_data"
    }
   ],
   "source": [
    "z"
   ]
  },
  {
   "cell_type": "code",
   "execution_count": 38,
   "id": "97b9b9ae-d4e9-431c-b8d7-e13c461d9caa",
   "metadata": {},
   "outputs": [
    {
     "data": {
      "text/html": [
       "<table class=\"dataframe\">\n",
       "<caption>A matrix: 3 × 10 of type dbl</caption>\n",
       "<tbody>\n",
       "\t<tr><th scope=row>x</th><td> 10.789</td><td>  6.021</td><td> 10.989</td><td> 10.817</td><td>  8.244</td><td>  2.380</td><td>  4.214</td><td>  6.116</td><td>  6.983</td><td> 14.214</td></tr>\n",
       "\t<tr><th scope=row>y</th><td>120.726</td><td>-49.838</td><td>-69.799</td><td> 15.505</td><td>  6.810</td><td>-22.011</td><td> 49.864</td><td>-58.844</td><td> 76.517</td><td>-69.112</td></tr>\n",
       "\t<tr><th scope=row>z</th><td>394.226</td><td>223.662</td><td>203.701</td><td>289.005</td><td>280.310</td><td>251.489</td><td>323.364</td><td>214.656</td><td>350.017</td><td>204.388</td></tr>\n",
       "</tbody>\n",
       "</table>\n"
      ],
      "text/latex": [
       "A matrix: 3 × 10 of type dbl\n",
       "\\begin{tabular}{r|llllllllll}\n",
       "\tx &  10.789 &   6.021 &  10.989 &  10.817 &   8.244 &   2.380 &   4.214 &   6.116 &   6.983 &  14.214\\\\\n",
       "\ty & 120.726 & -49.838 & -69.799 &  15.505 &   6.810 & -22.011 &  49.864 & -58.844 &  76.517 & -69.112\\\\\n",
       "\tz & 394.226 & 223.662 & 203.701 & 289.005 & 280.310 & 251.489 & 323.364 & 214.656 & 350.017 & 204.388\\\\\n",
       "\\end{tabular}\n"
      ],
      "text/markdown": [
       "\n",
       "A matrix: 3 × 10 of type dbl\n",
       "\n",
       "| x |  10.789 |   6.021 |  10.989 |  10.817 |   8.244 |   2.380 |   4.214 |   6.116 |   6.983 |  14.214 |\n",
       "| y | 120.726 | -49.838 | -69.799 |  15.505 |   6.810 | -22.011 |  49.864 | -58.844 |  76.517 | -69.112 |\n",
       "| z | 394.226 | 223.662 | 203.701 | 289.005 | 280.310 | 251.489 | 323.364 | 214.656 | 350.017 | 204.388 |\n",
       "\n"
      ],
      "text/plain": [
       "  [,1]    [,2]    [,3]    [,4]    [,5]    [,6]    [,7]    [,8]    [,9]   \n",
       "x  10.789   6.021  10.989  10.817   8.244   2.380   4.214   6.116   6.983\n",
       "y 120.726 -49.838 -69.799  15.505   6.810 -22.011  49.864 -58.844  76.517\n",
       "z 394.226 223.662 203.701 289.005 280.310 251.489 323.364 214.656 350.017\n",
       "  [,10]  \n",
       "x  14.214\n",
       "y -69.112\n",
       "z 204.388"
      ]
     },
     "metadata": {},
     "output_type": "display_data"
    }
   ],
   "source": [
    "rbind(x,y,z)"
   ]
  },
  {
   "cell_type": "code",
   "execution_count": 39,
   "id": "61de047e-6c1b-4f91-9d81-06ae63e044ba",
   "metadata": {},
   "outputs": [
    {
     "data": {
      "text/html": [
       "80.767"
      ],
      "text/latex": [
       "80.767"
      ],
      "text/markdown": [
       "80.767"
      ],
      "text/plain": [
       "[1] 80.767"
      ]
     },
     "metadata": {},
     "output_type": "display_data"
    },
    {
     "data": {
      "text/html": [
       "8.0767"
      ],
      "text/latex": [
       "8.0767"
      ],
      "text/markdown": [
       "8.0767"
      ],
      "text/plain": [
       "[1] 8.0767"
      ]
     },
     "metadata": {},
     "output_type": "display_data"
    },
    {
     "data": {
      "text/html": [
       "8.0767"
      ],
      "text/latex": [
       "8.0767"
      ],
      "text/markdown": [
       "8.0767"
      ],
      "text/plain": [
       "[1] 8.0767"
      ]
     },
     "metadata": {},
     "output_type": "display_data"
    }
   ],
   "source": [
    "sum(x)\n",
    "sum(x)/10\n",
    "mean(x)"
   ]
  },
  {
   "cell_type": "code",
   "execution_count": 40,
   "id": "fd3e8632-e17f-4c35-a30e-fda4d5bcda4d",
   "metadata": {},
   "outputs": [
    {
     "data": {
      "text/html": [
       "-0.18200000000001"
      ],
      "text/latex": [
       "-0.18200000000001"
      ],
      "text/markdown": [
       "-0.18200000000001"
      ],
      "text/plain": [
       "[1] -0.182"
      ]
     },
     "metadata": {},
     "output_type": "display_data"
    },
    {
     "data": {
      "text/html": [
       "-0.018200000000001"
      ],
      "text/latex": [
       "-0.018200000000001"
      ],
      "text/markdown": [
       "-0.018200000000001"
      ],
      "text/plain": [
       "[1] -0.0182"
      ]
     },
     "metadata": {},
     "output_type": "display_data"
    },
    {
     "data": {
      "text/html": [
       "-0.018200000000001"
      ],
      "text/latex": [
       "-0.018200000000001"
      ],
      "text/markdown": [
       "-0.018200000000001"
      ],
      "text/plain": [
       "[1] -0.0182"
      ]
     },
     "metadata": {},
     "output_type": "display_data"
    }
   ],
   "source": [
    "sum(y)\n",
    "sum(y)/10\n",
    "mean(y)"
   ]
  },
  {
   "cell_type": "code",
   "execution_count": 41,
   "id": "da9929fe-b6d9-45b4-af9d-44fde0edf8e0",
   "metadata": {},
   "outputs": [
    {
     "data": {
      "text/html": [
       "10"
      ],
      "text/latex": [
       "10"
      ],
      "text/markdown": [
       "10"
      ],
      "text/plain": [
       "[1] 10"
      ]
     },
     "metadata": {},
     "output_type": "display_data"
    }
   ],
   "source": [
    "length(x)"
   ]
  },
  {
   "cell_type": "code",
   "execution_count": 42,
   "id": "be3749a2-36db-422b-978e-71ac917ed423",
   "metadata": {},
   "outputs": [
    {
     "data": {
      "text/html": [
       "770.011845"
      ],
      "text/latex": [
       "770.011845"
      ],
      "text/markdown": [
       "770.011845"
      ],
      "text/plain": [
       "[1] 770.0118"
      ]
     },
     "metadata": {},
     "output_type": "display_data"
    }
   ],
   "source": [
    "sum(x^2)"
   ]
  },
  {
   "cell_type": "code",
   "execution_count": 43,
   "id": "4692bdfd-27f5-45d6-b81a-796660d5f8f8",
   "metadata": {},
   "outputs": [
    {
     "data": {
      "text/html": [
       "39282.113632"
      ],
      "text/latex": [
       "39282.113632"
      ],
      "text/markdown": [
       "39282.113632"
      ],
      "text/plain": [
       "[1] 39282.11"
      ]
     },
     "metadata": {},
     "output_type": "display_data"
    }
   ],
   "source": [
    "sum(y^2)"
   ]
  },
  {
   "cell_type": "code",
   "execution_count": 44,
   "id": "027248ba-b373-4763-9e63-031e574f2e98",
   "metadata": {},
   "outputs": [
    {
     "data": {
      "text/html": [
       "-190.912715"
      ],
      "text/latex": [
       "-190.912715"
      ],
      "text/markdown": [
       "-190.912715"
      ],
      "text/plain": [
       "[1] -190.9127"
      ]
     },
     "metadata": {},
     "output_type": "display_data"
    }
   ],
   "source": [
    "sum(x*y)"
   ]
  },
  {
   "cell_type": "code",
   "execution_count": 45,
   "id": "18285658-990d-4966-aaeb-74164aadbd18",
   "metadata": {},
   "outputs": [
    {
     "data": {
      "text/html": [
       "13.0881377777778"
      ],
      "text/latex": [
       "13.0881377777778"
      ],
      "text/markdown": [
       "13.0881377777778"
      ],
      "text/plain": [
       "[1] 13.08814"
      ]
     },
     "metadata": {},
     "output_type": "display_data"
    },
    {
     "data": {
      "text/html": [
       "13.0756684555556"
      ],
      "text/latex": [
       "13.0756684555556"
      ],
      "text/markdown": [
       "13.0756684555556"
      ],
      "text/plain": [
       "[1] 13.07567"
      ]
     },
     "metadata": {},
     "output_type": "display_data"
    },
    {
     "data": {
      "text/html": [
       "3.6160293770316"
      ],
      "text/latex": [
       "3.6160293770316"
      ],
      "text/markdown": [
       "3.6160293770316"
      ],
      "text/plain": [
       "[1] 3.616029"
      ]
     },
     "metadata": {},
     "output_type": "display_data"
    },
    {
     "data": {
      "text/html": [
       "3.61775313941924"
      ],
      "text/latex": [
       "3.61775313941924"
      ],
      "text/markdown": [
       "3.61775313941924"
      ],
      "text/plain": [
       "[1] 3.617753"
      ]
     },
     "metadata": {},
     "output_type": "display_data"
    }
   ],
   "source": [
    "1/9*(770.011 - 10*8.076^2)\n",
    "var(x)\n",
    "sd(x)\n",
    "sqrt(1/9*(770.011 - 10*8.076^2))"
   ]
  },
  {
   "cell_type": "code",
   "execution_count": 46,
   "id": "950d8890-db49-4cf0-ac17-6e1c508f4dd6",
   "metadata": {},
   "outputs": [
    {
     "data": {
      "text/html": [
       "4364.67958222222"
      ],
      "text/latex": [
       "4364.67958222222"
      ],
      "text/markdown": [
       "4364.67958222222"
      ],
      "text/plain": [
       "[1] 4364.68"
      ]
     },
     "metadata": {},
     "output_type": "display_data"
    },
    {
     "data": {
      "text/html": [
       "4364.6789244"
      ],
      "text/latex": [
       "4364.6789244"
      ],
      "text/markdown": [
       "4364.6789244"
      ],
      "text/plain": [
       "[1] 4364.679"
      ]
     },
     "metadata": {},
     "output_type": "display_data"
    },
    {
     "data": {
      "text/html": [
       "66.0657167099548"
      ],
      "text/latex": [
       "66.0657167099548"
      ],
      "text/markdown": [
       "66.0657167099548"
      ],
      "text/plain": [
       "[1] 66.06572"
      ]
     },
     "metadata": {},
     "output_type": "display_data"
    },
    {
     "data": {
      "text/html": [
       "66.0657216884991"
      ],
      "text/latex": [
       "66.0657216884991"
      ],
      "text/markdown": [
       "66.0657216884991"
      ],
      "text/plain": [
       "[1] 66.06572"
      ]
     },
     "metadata": {},
     "output_type": "display_data"
    }
   ],
   "source": [
    "1/9*(39282.113 - 10*-0.018^2)\n",
    "var(y)\n",
    "sd(y)\n",
    "sqrt(1/9*(39282.113 - 10*-0.018^2))"
   ]
  },
  {
   "cell_type": "code",
   "execution_count": 47,
   "id": "a4cf7cbf-b6cc-4559-ab81-1df16bbccd42",
   "metadata": {},
   "outputs": [
    {
     "data": {
      "text/html": [
       "-21.0491950666667"
      ],
      "text/latex": [
       "-21.0491950666667"
      ],
      "text/markdown": [
       "-21.0491950666667"
      ],
      "text/plain": [
       "[1] -21.0492"
      ]
     },
     "metadata": {},
     "output_type": "display_data"
    },
    {
     "data": {
      "text/html": [
       "-21.0491950666667"
      ],
      "text/latex": [
       "-21.0491950666667"
      ],
      "text/markdown": [
       "-21.0491950666667"
      ],
      "text/plain": [
       "[1] -21.0492"
      ]
     },
     "metadata": {},
     "output_type": "display_data"
    },
    {
     "data": {
      "text/html": [
       "-21.0491156222222"
      ],
      "text/latex": [
       "-21.0491156222222"
      ],
      "text/markdown": [
       "-21.0491156222222"
      ],
      "text/plain": [
       "[1] -21.04912"
      ]
     },
     "metadata": {},
     "output_type": "display_data"
    }
   ],
   "source": [
    "cov(x,y)\n",
    "(sum(x*y)-10*sum(x)*sum(y)/10^2)/9\n",
    "(-190.912-10*80.767*-0.182/10^2)/9"
   ]
  },
  {
   "cell_type": "code",
   "execution_count": 48,
   "id": "e29256a9-e156-43d4-87fd-310e797c886c",
   "metadata": {},
   "outputs": [
    {
     "data": {
      "text/html": [
       "-0.0881104444585019"
      ],
      "text/latex": [
       "-0.0881104444585019"
      ],
      "text/markdown": [
       "-0.0881104444585019"
      ],
      "text/plain": [
       "[1] -0.08811044"
      ]
     },
     "metadata": {},
     "output_type": "display_data"
    },
    {
     "data": {
      "text/html": [
       "-0.0880874231474399"
      ],
      "text/latex": [
       "-0.0880874231474399"
      ],
      "text/markdown": [
       "-0.0880874231474399"
      ],
      "text/plain": [
       "[1] -0.08808742"
      ]
     },
     "metadata": {},
     "output_type": "display_data"
    }
   ],
   "source": [
    "cor(x,y)\n",
    "((-190.912-10*80.767*-0.182/10^2)/9)/((3.617)*(66.065))"
   ]
  },
  {
   "cell_type": "code",
   "execution_count": 49,
   "id": "63c3fb7b-cbfd-477c-aab5-055ac4b69a39",
   "metadata": {},
   "outputs": [
    {
     "data": {
      "text/html": [
       "273.4818"
      ],
      "text/latex": [
       "273.4818"
      ],
      "text/markdown": [
       "273.4818"
      ],
      "text/plain": [
       "[1] 273.4818"
      ]
     },
     "metadata": {},
     "output_type": "display_data"
    },
    {
     "data": {
      "text/html": [
       "273.1318"
      ],
      "text/latex": [
       "273.1318"
      ],
      "text/markdown": [
       "273.1318"
      ],
      "text/plain": [
       "[1] 273.1318"
      ]
     },
     "metadata": {},
     "output_type": "display_data"
    },
    {
     "data": {
      "text/html": [
       "273.132"
      ],
      "text/latex": [
       "273.132"
      ],
      "text/markdown": [
       "273.132"
      ],
      "text/plain": [
       "[1] 273.132"
      ]
     },
     "metadata": {},
     "output_type": "display_data"
    }
   ],
   "source": [
    "mean(z)\n",
    "mean(y)+273.15\n",
    "-0.018 +273.15"
   ]
  },
  {
   "cell_type": "code",
   "execution_count": 50,
   "id": "5b5700f7-7cef-40e2-a802-98d43e8d3b17",
   "metadata": {},
   "outputs": [
    {
     "data": {
      "text/html": [
       "4364.6789244"
      ],
      "text/latex": [
       "4364.6789244"
      ],
      "text/markdown": [
       "4364.6789244"
      ],
      "text/plain": [
       "[1] 4364.679"
      ]
     },
     "metadata": {},
     "output_type": "display_data"
    },
    {
     "data": {
      "text/html": [
       "4364.6789244"
      ],
      "text/latex": [
       "4364.6789244"
      ],
      "text/markdown": [
       "4364.6789244"
      ],
      "text/plain": [
       "[1] 4364.679"
      ]
     },
     "metadata": {},
     "output_type": "display_data"
    }
   ],
   "source": [
    "var(z)\n",
    "var(y)"
   ]
  },
  {
   "cell_type": "code",
   "execution_count": 51,
   "id": "00615a2f-a850-438c-a3c9-b670c8f18941",
   "metadata": {},
   "outputs": [
    {
     "data": {
      "text/html": [
       "0.447711240609606"
      ],
      "text/latex": [
       "0.447711240609606"
      ],
      "text/markdown": [
       "0.447711240609606"
      ],
      "text/plain": [
       "[1] 0.4477112"
      ]
     },
     "metadata": {},
     "output_type": "display_data"
    },
    {
     "data": {
      "text/html": [
       "0.447746409113422"
      ],
      "text/latex": [
       "0.447746409113422"
      ],
      "text/markdown": [
       "0.447746409113422"
      ],
      "text/plain": [
       "[1] 0.4477464"
      ]
     },
     "metadata": {},
     "output_type": "display_data"
    },
    {
     "data": {
      "text/html": [
       "0.241572626441521"
      ],
      "text/latex": [
       "0.241572626441521"
      ],
      "text/markdown": [
       "0.241572626441521"
      ],
      "text/plain": [
       "[1] 0.2415726"
      ]
     },
     "metadata": {},
     "output_type": "display_data"
    },
    {
     "data": {
      "text/html": [
       "0.241879384326992"
      ],
      "text/latex": [
       "0.241879384326992"
      ],
      "text/markdown": [
       "0.241879384326992"
      ],
      "text/plain": [
       "[1] 0.2418794"
      ]
     },
     "metadata": {},
     "output_type": "display_data"
    }
   ],
   "source": [
    "sd(x)/mean(x)\n",
    "3.616/8.076\n",
    "sd(z)/mean(z)\n",
    "66.065/273.132"
   ]
  },
  {
   "cell_type": "code",
   "execution_count": 55,
   "id": "d79f55b2-5e68-4bde-9f93-79e6e17075f3",
   "metadata": {},
   "outputs": [
    {
     "data": {
      "text/plain": [
       "   Min. 1st Qu.  Median    Mean 3rd Qu.    Max. \n",
       "  0.238   1.848   3.034   4.337   4.870  17.696 "
      ]
     },
     "metadata": {},
     "output_type": "display_data"
    },
    {
     "data": {
      "text/html": [
       "14.214"
      ],
      "text/latex": [
       "14.214"
      ],
      "text/markdown": [
       "14.214"
      ],
      "text/plain": [
       "[1] 14.214"
      ]
     },
     "metadata": {},
     "output_type": "display_data"
    },
    {
     "data": {
      "image/png": "[encoded data removed]",
      "text/plain": [
       "plot without title"
      ]
     },
     "metadata": {
      "image/png": {
       "height": 420,
       "width": 420
      }
     },
     "output_type": "display_data"
    }
   ],
   "source": [
    "set.seed(1)\n",
    "w = round(rexp(30,0.25),3)\n",
    "boxplot(w)\n",
    "summary(w)\n",
    "max(x)"
   ]
  },
  {
   "cell_type": "code",
   "execution_count": 57,
   "id": "4377fe7e-f9a5-46ce-ad0d-57e918763db9",
   "metadata": {},
   "outputs": [
    {
     "data": {
      "text/html": [
       "0.215089344804765"
      ],
      "text/latex": [
       "0.215089344804765"
      ],
      "text/markdown": [
       "0.215089344804765"
      ],
      "text/plain": [
       "[1] 0.2150893"
      ]
     },
     "metadata": {},
     "output_type": "display_data"
    }
   ],
   "source": [
    "(4.870+1.848  -2*3.034)/(4.870-1.848)"
   ]
  },
  {
   "cell_type": "code",
   "execution_count": 61,
   "id": "64e3ea63-efca-40d2-856d-c2539b1d46dd",
   "metadata": {},
   "outputs": [
    {
     "data": {
      "text/html": [
       "-2.685"
      ],
      "text/latex": [
       "-2.685"
      ],
      "text/markdown": [
       "-2.685"
      ],
      "text/plain": [
       "[1] -2.685"
      ]
     },
     "metadata": {},
     "output_type": "display_data"
    }
   ],
   "source": [
    "1.848 - 1.5*(4.870-1.848)"
   ]
  },
  {
   "cell_type": "code",
   "execution_count": 60,
   "id": "f98282b4-cbef-4e13-8af6-e25c9b1e2eb2",
   "metadata": {},
   "outputs": [
    {
     "data": {
      "text/html": [
       "9.403"
      ],
      "text/latex": [
       "9.403"
      ],
      "text/markdown": [
       "9.403"
      ],
      "text/plain": [
       "[1] 9.403"
      ]
     },
     "metadata": {},
     "output_type": "display_data"
    }
   ],
   "source": [
    "4.870 + 1.5*(4.870-1.848)"
   ]
  }
 ],
 "metadata": {
  "kernelspec": {
   "display_name": "R",
   "language": "R",
   "name": "ir"
  },
  "language_info": {
   "codemirror_mode": "r",
   "file_extension": ".r",
   "mimetype": "text/x-r-source",
   "name": "R",
   "pygments_lexer": "r",
   "version": "4.3.3"
  }
 },
 "nbformat": 4,
 "nbformat_minor": 5
}
