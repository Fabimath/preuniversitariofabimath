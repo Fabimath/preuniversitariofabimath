{
 "cells": [
  {
   "cell_type": "code",
   "execution_count": 1,
   "id": "3a5c5680-efdf-4e7a-a9f3-f4eff8c87a0e",
   "metadata": {},
   "outputs": [
    {
     "data": {
      "text/html": [
       "<style>\n",
       ".list-inline {list-style: none; margin:0; padding: 0}\n",
       ".list-inline>li {display: inline-block}\n",
       ".list-inline>li:not(:last-child)::after {content: \"\\00b7\"; padding: 0 .5ex}\n",
       "</style>\n",
       "<ol class=list-inline><li>178.541</li><li>73.637</li><li>-36.645</li><li>-174.112</li><li>148.46</li><li>21.124</li><li>35.767</li><li>134.029</li><li>120.303</li><li>89.642</li></ol>\n"
      ],
      "text/latex": [
       "\\begin{enumerate*}\n",
       "\\item 178.541\n",
       "\\item 73.637\n",
       "\\item -36.645\n",
       "\\item -174.112\n",
       "\\item 148.46\n",
       "\\item 21.124\n",
       "\\item 35.767\n",
       "\\item 134.029\n",
       "\\item 120.303\n",
       "\\item 89.642\n",
       "\\end{enumerate*}\n"
      ],
      "text/markdown": [
       "1. 178.541\n",
       "2. 73.637\n",
       "3. -36.645\n",
       "4. -174.112\n",
       "5. 148.46\n",
       "6. 21.124\n",
       "7. 35.767\n",
       "8. 134.029\n",
       "9. 120.303\n",
       "10. 89.642\n",
       "\n",
       "\n"
      ],
      "text/plain": [
       " [1]  178.541   73.637  -36.645 -174.112  148.460   21.124   35.767  134.029\n",
       " [9]  120.303   89.642"
      ]
     },
     "metadata": {},
     "output_type": "display_data"
    },
    {
     "data": {
      "text/html": [
       "-0.318284095658163"
      ],
      "text/latex": [
       "-0.318284095658163"
      ],
      "text/markdown": [
       "-0.318284095658163"
      ],
      "text/plain": [
       "[1] -0.3182841"
      ]
     },
     "metadata": {},
     "output_type": "display_data"
    },
    {
     "data": {
      "text/html": [
       "<style>\n",
       ".list-inline {list-style: none; margin:0; padding: 0}\n",
       ".list-inline>li {display: inline-block}\n",
       ".list-inline>li:not(:last-child)::after {content: \"\\00b7\"; padding: 0 .5ex}\n",
       "</style>\n",
       "<ol class=list-inline><li>5.121</li><li>7.551</li><li>4.493</li><li>11.786</li><li>7.989</li><li>4.539</li><li>8.462</li><li>9.215</li><li>8.727</li><li>6.084</li></ol>\n"
      ],
      "text/latex": [
       "\\begin{enumerate*}\n",
       "\\item 5.121\n",
       "\\item 7.551\n",
       "\\item 4.493\n",
       "\\item 11.786\n",
       "\\item 7.989\n",
       "\\item 4.539\n",
       "\\item 8.462\n",
       "\\item 9.215\n",
       "\\item 8.727\n",
       "\\item 6.084\n",
       "\\end{enumerate*}\n"
      ],
      "text/markdown": [
       "1. 5.121\n",
       "2. 7.551\n",
       "3. 4.493\n",
       "4. 11.786\n",
       "5. 7.989\n",
       "6. 4.539\n",
       "7. 8.462\n",
       "8. 9.215\n",
       "9. 8.727\n",
       "10. 6.084\n",
       "\n",
       "\n"
      ],
      "text/plain": [
       " [1]  5.121  7.551  4.493 11.786  7.989  4.539  8.462  9.215  8.727  6.084"
      ]
     },
     "metadata": {},
     "output_type": "display_data"
    },
    {
     "data": {
      "image/png": "[encoded data removed]",
      "text/plain": [
       "plot without title"
      ]
     },
     "metadata": {
      "image/png": {
       "height": 420,
       "width": 420
      }
     },
     "output_type": "display_data"
    }
   ],
   "source": [
    "# Pregunta para regresión.\n",
    "set.seed(6)\n",
    "x = round(rnorm(10,7,3),3)\n",
    "y = round((2*rep(1,length(x))+3*x+rnorm(length(x),10,100)),3)\n",
    "y\n",
    "plot(x,y)\n",
    "cor(x,y)\n",
    "x\n",
    "\n",
    "z=y+273.5"
   ]
  },
  {
   "cell_type": "code",
   "execution_count": 2,
   "id": "e7197d1e-408f-4107-8272-6a3304484d2d",
   "metadata": {},
   "outputs": [
    {
     "data": {
      "text/html": [
       "<style>\n",
       ".list-inline {list-style: none; margin:0; padding: 0}\n",
       ".list-inline>li {display: inline-block}\n",
       ".list-inline>li:not(:last-child)::after {content: \"\\00b7\"; padding: 0 .5ex}\n",
       "</style>\n",
       "<ol class=list-inline><li>5.121</li><li>7.551</li><li>4.493</li><li>11.786</li><li>7.989</li><li>4.539</li><li>8.462</li><li>9.215</li><li>8.727</li><li>6.084</li></ol>\n"
      ],
      "text/latex": [
       "\\begin{enumerate*}\n",
       "\\item 5.121\n",
       "\\item 7.551\n",
       "\\item 4.493\n",
       "\\item 11.786\n",
       "\\item 7.989\n",
       "\\item 4.539\n",
       "\\item 8.462\n",
       "\\item 9.215\n",
       "\\item 8.727\n",
       "\\item 6.084\n",
       "\\end{enumerate*}\n"
      ],
      "text/markdown": [
       "1. 5.121\n",
       "2. 7.551\n",
       "3. 4.493\n",
       "4. 11.786\n",
       "5. 7.989\n",
       "6. 4.539\n",
       "7. 8.462\n",
       "8. 9.215\n",
       "9. 8.727\n",
       "10. 6.084\n",
       "\n",
       "\n"
      ],
      "text/plain": [
       " [1]  5.121  7.551  4.493 11.786  7.989  4.539  8.462  9.215  8.727  6.084"
      ]
     },
     "metadata": {},
     "output_type": "display_data"
    }
   ],
   "source": [
    "x"
   ]
  },
  {
   "cell_type": "code",
   "execution_count": 3,
   "id": "f8f9fdd4-9688-4a6f-a316-5192ffb96887",
   "metadata": {},
   "outputs": [
    {
     "data": {
      "text/html": [
       "<style>\n",
       ".list-inline {list-style: none; margin:0; padding: 0}\n",
       ".list-inline>li {display: inline-block}\n",
       ".list-inline>li:not(:last-child)::after {content: \"\\00b7\"; padding: 0 .5ex}\n",
       "</style>\n",
       "<ol class=list-inline><li>178.541</li><li>73.637</li><li>-36.645</li><li>-174.112</li><li>148.46</li><li>21.124</li><li>35.767</li><li>134.029</li><li>120.303</li><li>89.642</li></ol>\n"
      ],
      "text/latex": [
       "\\begin{enumerate*}\n",
       "\\item 178.541\n",
       "\\item 73.637\n",
       "\\item -36.645\n",
       "\\item -174.112\n",
       "\\item 148.46\n",
       "\\item 21.124\n",
       "\\item 35.767\n",
       "\\item 134.029\n",
       "\\item 120.303\n",
       "\\item 89.642\n",
       "\\end{enumerate*}\n"
      ],
      "text/markdown": [
       "1. 178.541\n",
       "2. 73.637\n",
       "3. -36.645\n",
       "4. -174.112\n",
       "5. 148.46\n",
       "6. 21.124\n",
       "7. 35.767\n",
       "8. 134.029\n",
       "9. 120.303\n",
       "10. 89.642\n",
       "\n",
       "\n"
      ],
      "text/plain": [
       " [1]  178.541   73.637  -36.645 -174.112  148.460   21.124   35.767  134.029\n",
       " [9]  120.303   89.642"
      ]
     },
     "metadata": {},
     "output_type": "display_data"
    }
   ],
   "source": [
    "y"
   ]
  },
  {
   "cell_type": "code",
   "execution_count": 4,
   "id": "0cd1387c-3849-43a8-b0ee-0d46b595f092",
   "metadata": {},
   "outputs": [
    {
     "data": {
      "text/html": [
       "<style>\n",
       ".list-inline {list-style: none; margin:0; padding: 0}\n",
       ".list-inline>li {display: inline-block}\n",
       ".list-inline>li:not(:last-child)::after {content: \"\\00b7\"; padding: 0 .5ex}\n",
       "</style>\n",
       "<ol class=list-inline><li>452.041</li><li>347.137</li><li>236.855</li><li>99.388</li><li>421.96</li><li>294.624</li><li>309.267</li><li>407.529</li><li>393.803</li><li>363.142</li></ol>\n"
      ],
      "text/latex": [
       "\\begin{enumerate*}\n",
       "\\item 452.041\n",
       "\\item 347.137\n",
       "\\item 236.855\n",
       "\\item 99.388\n",
       "\\item 421.96\n",
       "\\item 294.624\n",
       "\\item 309.267\n",
       "\\item 407.529\n",
       "\\item 393.803\n",
       "\\item 363.142\n",
       "\\end{enumerate*}\n"
      ],
      "text/markdown": [
       "1. 452.041\n",
       "2. 347.137\n",
       "3. 236.855\n",
       "4. 99.388\n",
       "5. 421.96\n",
       "6. 294.624\n",
       "7. 309.267\n",
       "8. 407.529\n",
       "9. 393.803\n",
       "10. 363.142\n",
       "\n",
       "\n"
      ],
      "text/plain": [
       " [1] 452.041 347.137 236.855  99.388 421.960 294.624 309.267 407.529 393.803\n",
       "[10] 363.142"
      ]
     },
     "metadata": {},
     "output_type": "display_data"
    }
   ],
   "source": [
    "z"
   ]
  },
  {
   "cell_type": "code",
   "execution_count": 5,
   "id": "97b9b9ae-d4e9-431c-b8d7-e13c461d9caa",
   "metadata": {},
   "outputs": [
    {
     "data": {
      "text/html": [
       "<table class=\"dataframe\">\n",
       "<caption>A matrix: 3 × 10 of type dbl</caption>\n",
       "<tbody>\n",
       "\t<tr><th scope=row>x</th><td>  5.121</td><td>  7.551</td><td>  4.493</td><td>  11.786</td><td>  7.989</td><td>  4.539</td><td>  8.462</td><td>  9.215</td><td>  8.727</td><td>  6.084</td></tr>\n",
       "\t<tr><th scope=row>y</th><td>178.541</td><td> 73.637</td><td>-36.645</td><td>-174.112</td><td>148.460</td><td> 21.124</td><td> 35.767</td><td>134.029</td><td>120.303</td><td> 89.642</td></tr>\n",
       "\t<tr><th scope=row>z</th><td>452.041</td><td>347.137</td><td>236.855</td><td>  99.388</td><td>421.960</td><td>294.624</td><td>309.267</td><td>407.529</td><td>393.803</td><td>363.142</td></tr>\n",
       "</tbody>\n",
       "</table>\n"
      ],
      "text/latex": [
       "A matrix: 3 × 10 of type dbl\n",
       "\\begin{tabular}{r|llllllllll}\n",
       "\tx &   5.121 &   7.551 &   4.493 &   11.786 &   7.989 &   4.539 &   8.462 &   9.215 &   8.727 &   6.084\\\\\n",
       "\ty & 178.541 &  73.637 & -36.645 & -174.112 & 148.460 &  21.124 &  35.767 & 134.029 & 120.303 &  89.642\\\\\n",
       "\tz & 452.041 & 347.137 & 236.855 &   99.388 & 421.960 & 294.624 & 309.267 & 407.529 & 393.803 & 363.142\\\\\n",
       "\\end{tabular}\n"
      ],
      "text/markdown": [
       "\n",
       "A matrix: 3 × 10 of type dbl\n",
       "\n",
       "| x |   5.121 |   7.551 |   4.493 |   11.786 |   7.989 |   4.539 |   8.462 |   9.215 |   8.727 |   6.084 |\n",
       "| y | 178.541 |  73.637 | -36.645 | -174.112 | 148.460 |  21.124 |  35.767 | 134.029 | 120.303 |  89.642 |\n",
       "| z | 452.041 | 347.137 | 236.855 |   99.388 | 421.960 | 294.624 | 309.267 | 407.529 | 393.803 | 363.142 |\n",
       "\n"
      ],
      "text/plain": [
       "  [,1]    [,2]    [,3]    [,4]     [,5]    [,6]    [,7]    [,8]    [,9]   \n",
       "x   5.121   7.551   4.493   11.786   7.989   4.539   8.462   9.215   8.727\n",
       "y 178.541  73.637 -36.645 -174.112 148.460  21.124  35.767 134.029 120.303\n",
       "z 452.041 347.137 236.855   99.388 421.960 294.624 309.267 407.529 393.803\n",
       "  [,10]  \n",
       "x   6.084\n",
       "y  89.642\n",
       "z 363.142"
      ]
     },
     "metadata": {},
     "output_type": "display_data"
    }
   ],
   "source": [
    "rbind(x,y,z)"
   ]
  },
  {
   "cell_type": "code",
   "execution_count": 6,
   "id": "61de047e-6c1b-4f91-9d81-06ae63e044ba",
   "metadata": {},
   "outputs": [
    {
     "data": {
      "text/html": [
       "73.967"
      ],
      "text/latex": [
       "73.967"
      ],
      "text/markdown": [
       "73.967"
      ],
      "text/plain": [
       "[1] 73.967"
      ]
     },
     "metadata": {},
     "output_type": "display_data"
    },
    {
     "data": {
      "text/html": [
       "7.3967"
      ],
      "text/latex": [
       "7.3967"
      ],
      "text/markdown": [
       "7.3967"
      ],
      "text/plain": [
       "[1] 7.3967"
      ]
     },
     "metadata": {},
     "output_type": "display_data"
    },
    {
     "data": {
      "text/html": [
       "7.3967"
      ],
      "text/latex": [
       "7.3967"
      ],
      "text/markdown": [
       "7.3967"
      ],
      "text/plain": [
       "[1] 7.3967"
      ]
     },
     "metadata": {},
     "output_type": "display_data"
    }
   ],
   "source": [
    "sum(x)\n",
    "sum(x)/10\n",
    "mean(x)"
   ]
  },
  {
   "cell_type": "code",
   "execution_count": 7,
   "id": "fd3e8632-e17f-4c35-a30e-fda4d5bcda4d",
   "metadata": {},
   "outputs": [
    {
     "data": {
      "text/html": [
       "590.746"
      ],
      "text/latex": [
       "590.746"
      ],
      "text/markdown": [
       "590.746"
      ],
      "text/plain": [
       "[1] 590.746"
      ]
     },
     "metadata": {},
     "output_type": "display_data"
    },
    {
     "data": {
      "text/html": [
       "59.0746"
      ],
      "text/latex": [
       "59.0746"
      ],
      "text/markdown": [
       "59.0746"
      ],
      "text/plain": [
       "[1] 59.0746"
      ]
     },
     "metadata": {},
     "output_type": "display_data"
    },
    {
     "data": {
      "text/html": [
       "59.0746"
      ],
      "text/latex": [
       "59.0746"
      ],
      "text/markdown": [
       "59.0746"
      ],
      "text/plain": [
       "[1] 59.0746"
      ]
     },
     "metadata": {},
     "output_type": "display_data"
    }
   ],
   "source": [
    "sum(y)\n",
    "sum(y)/10\n",
    "mean(y)"
   ]
  },
  {
   "cell_type": "code",
   "execution_count": 8,
   "id": "da9929fe-b6d9-45b4-af9d-44fde0edf8e0",
   "metadata": {},
   "outputs": [
    {
     "data": {
      "text/html": [
       "10"
      ],
      "text/latex": [
       "10"
      ],
      "text/markdown": [
       "10"
      ],
      "text/plain": [
       "[1] 10"
      ]
     },
     "metadata": {},
     "output_type": "display_data"
    }
   ],
   "source": [
    "length(x)"
   ]
  },
  {
   "cell_type": "code",
   "execution_count": 9,
   "id": "be3749a2-36db-422b-978e-71ac917ed423",
   "metadata": {},
   "outputs": [
    {
     "data": {
      "text/html": [
       "596.462983"
      ],
      "text/latex": [
       "596.462983"
      ],
      "text/markdown": [
       "596.462983"
      ],
      "text/plain": [
       "[1] 596.463"
      ]
     },
     "metadata": {},
     "output_type": "display_data"
    }
   ],
   "source": [
    "sum(x^2)"
   ]
  },
  {
   "cell_type": "code",
   "execution_count": 10,
   "id": "4692bdfd-27f5-45d6-b81a-796660d5f8f8",
   "metadata": {},
   "outputs": [
    {
     "data": {
      "text/html": [
       "133195.287098"
      ],
      "text/latex": [
       "133195.287098"
      ],
      "text/markdown": [
       "133195.287098"
      ],
      "text/plain": [
       "[1] 133195.3"
      ]
     },
     "metadata": {},
     "output_type": "display_data"
    }
   ],
   "source": [
    "sum(y^2)"
   ]
  },
  {
   "cell_type": "code",
   "execution_count": 11,
   "id": "027248ba-b373-4763-9e63-031e574f2e98",
   "metadata": {},
   "outputs": [
    {
     "data": {
      "text/html": [
       "3668.544005"
      ],
      "text/latex": [
       "3668.544005"
      ],
      "text/markdown": [
       "3668.544005"
      ],
      "text/plain": [
       "[1] 3668.544"
      ]
     },
     "metadata": {},
     "output_type": "display_data"
    }
   ],
   "source": [
    "sum(x*y)"
   ]
  },
  {
   "cell_type": "code",
   "execution_count": 12,
   "id": "18285658-990d-4966-aaeb-74164aadbd18",
   "metadata": {},
   "outputs": [
    {
     "data": {
      "text/html": [
       "13.0881377777778"
      ],
      "text/latex": [
       "13.0881377777778"
      ],
      "text/markdown": [
       "13.0881377777778"
      ],
      "text/plain": [
       "[1] 13.08814"
      ]
     },
     "metadata": {},
     "output_type": "display_data"
    },
    {
     "data": {
      "text/html": [
       "5.4834749"
      ],
      "text/latex": [
       "5.4834749"
      ],
      "text/markdown": [
       "5.4834749"
      ],
      "text/plain": [
       "[1] 5.483475"
      ]
     },
     "metadata": {},
     "output_type": "display_data"
    },
    {
     "data": {
      "text/html": [
       "2.34168206637878"
      ],
      "text/latex": [
       "2.34168206637878"
      ],
      "text/markdown": [
       "2.34168206637878"
      ],
      "text/plain": [
       "[1] 2.341682"
      ]
     },
     "metadata": {},
     "output_type": "display_data"
    },
    {
     "data": {
      "text/html": [
       "3.61775313941924"
      ],
      "text/latex": [
       "3.61775313941924"
      ],
      "text/markdown": [
       "3.61775313941924"
      ],
      "text/plain": [
       "[1] 3.617753"
      ]
     },
     "metadata": {},
     "output_type": "display_data"
    }
   ],
   "source": [
    "1/9*(770.011 - 10*8.076^2)\n",
    "var(x)\n",
    "sd(x)\n",
    "sqrt(1/9*(770.011 - 10*8.076^2))"
   ]
  },
  {
   "cell_type": "code",
   "execution_count": 13,
   "id": "950d8890-db49-4cf0-ac17-6e1c508f4dd6",
   "metadata": {},
   "outputs": [
    {
     "data": {
      "text/html": [
       "4364.67958222222"
      ],
      "text/latex": [
       "4364.67958222222"
      ],
      "text/markdown": [
       "4364.67958222222"
      ],
      "text/plain": [
       "[1] 4364.68"
      ]
     },
     "metadata": {},
     "output_type": "display_data"
    },
    {
     "data": {
      "text/html": [
       "10921.9114940444"
      ],
      "text/latex": [
       "10921.9114940444"
      ],
      "text/markdown": [
       "10921.9114940444"
      ],
      "text/plain": [
       "[1] 10921.91"
      ]
     },
     "metadata": {},
     "output_type": "display_data"
    },
    {
     "data": {
      "text/html": [
       "104.507949429909"
      ],
      "text/latex": [
       "104.507949429909"
      ],
      "text/markdown": [
       "104.507949429909"
      ],
      "text/plain": [
       "[1] 104.5079"
      ]
     },
     "metadata": {},
     "output_type": "display_data"
    },
    {
     "data": {
      "text/html": [
       "66.0657216884991"
      ],
      "text/latex": [
       "66.0657216884991"
      ],
      "text/markdown": [
       "66.0657216884991"
      ],
      "text/plain": [
       "[1] 66.06572"
      ]
     },
     "metadata": {},
     "output_type": "display_data"
    }
   ],
   "source": [
    "1/9*(39282.113 - 10*-0.018^2)\n",
    "var(y)\n",
    "sd(y)\n",
    "sqrt(1/9*(39282.113 - 10*-0.018^2))"
   ]
  },
  {
   "cell_type": "code",
   "execution_count": 14,
   "id": "a4cf7cbf-b6cc-4559-ab81-1df16bbccd42",
   "metadata": {},
   "outputs": [
    {
     "data": {
      "text/html": [
       "-77.8918814666666"
      ],
      "text/latex": [
       "-77.8918814666666"
      ],
      "text/markdown": [
       "-77.8918814666666"
      ],
      "text/plain": [
       "[1] -77.89188"
      ]
     },
     "metadata": {},
     "output_type": "display_data"
    },
    {
     "data": {
      "text/html": [
       "-77.8918814666666"
      ],
      "text/latex": [
       "-77.8918814666666"
      ],
      "text/markdown": [
       "-77.8918814666666"
      ],
      "text/plain": [
       "[1] -77.89188"
      ]
     },
     "metadata": {},
     "output_type": "display_data"
    },
    {
     "data": {
      "text/html": [
       "-21.0491156222222"
      ],
      "text/latex": [
       "-21.0491156222222"
      ],
      "text/markdown": [
       "-21.0491156222222"
      ],
      "text/plain": [
       "[1] -21.04912"
      ]
     },
     "metadata": {},
     "output_type": "display_data"
    }
   ],
   "source": [
    "cov(x,y)\n",
    "(sum(x*y)-10*sum(x)*sum(y)/10^2)/9\n",
    "(-190.912-10*80.767*-0.182/10^2)/9"
   ]
  },
  {
   "cell_type": "code",
   "execution_count": 15,
   "id": "e29256a9-e156-43d4-87fd-310e797c886c",
   "metadata": {},
   "outputs": [
    {
     "data": {
      "text/html": [
       "-0.318284095658163"
      ],
      "text/latex": [
       "-0.318284095658163"
      ],
      "text/markdown": [
       "-0.318284095658163"
      ],
      "text/plain": [
       "[1] -0.3182841"
      ]
     },
     "metadata": {},
     "output_type": "display_data"
    },
    {
     "data": {
      "text/html": [
       "-0.0880874231474399"
      ],
      "text/latex": [
       "-0.0880874231474399"
      ],
      "text/markdown": [
       "-0.0880874231474399"
      ],
      "text/plain": [
       "[1] -0.08808742"
      ]
     },
     "metadata": {},
     "output_type": "display_data"
    }
   ],
   "source": [
    "cor(x,y)\n",
    "((-190.912-10*80.767*-0.182/10^2)/9)/((3.617)*(66.065))"
   ]
  },
  {
   "cell_type": "code",
   "execution_count": 16,
   "id": "63c3fb7b-cbfd-477c-aab5-055ac4b69a39",
   "metadata": {},
   "outputs": [
    {
     "data": {
      "text/html": [
       "332.5746"
      ],
      "text/latex": [
       "332.5746"
      ],
      "text/markdown": [
       "332.5746"
      ],
      "text/plain": [
       "[1] 332.5746"
      ]
     },
     "metadata": {},
     "output_type": "display_data"
    },
    {
     "data": {
      "text/html": [
       "332.2246"
      ],
      "text/latex": [
       "332.2246"
      ],
      "text/markdown": [
       "332.2246"
      ],
      "text/plain": [
       "[1] 332.2246"
      ]
     },
     "metadata": {},
     "output_type": "display_data"
    },
    {
     "data": {
      "text/html": [
       "273.132"
      ],
      "text/latex": [
       "273.132"
      ],
      "text/markdown": [
       "273.132"
      ],
      "text/plain": [
       "[1] 273.132"
      ]
     },
     "metadata": {},
     "output_type": "display_data"
    }
   ],
   "source": [
    "mean(z)\n",
    "mean(y)+273.15\n",
    "-0.018 +273.15"
   ]
  },
  {
   "cell_type": "code",
   "execution_count": 17,
   "id": "5b5700f7-7cef-40e2-a802-98d43e8d3b17",
   "metadata": {},
   "outputs": [
    {
     "data": {
      "text/html": [
       "10921.9114940444"
      ],
      "text/latex": [
       "10921.9114940444"
      ],
      "text/markdown": [
       "10921.9114940444"
      ],
      "text/plain": [
       "[1] 10921.91"
      ]
     },
     "metadata": {},
     "output_type": "display_data"
    },
    {
     "data": {
      "text/html": [
       "10921.9114940444"
      ],
      "text/latex": [
       "10921.9114940444"
      ],
      "text/markdown": [
       "10921.9114940444"
      ],
      "text/plain": [
       "[1] 10921.91"
      ]
     },
     "metadata": {},
     "output_type": "display_data"
    }
   ],
   "source": [
    "var(z)\n",
    "var(y)"
   ]
  },
  {
   "cell_type": "code",
   "execution_count": 18,
   "id": "00615a2f-a850-438c-a3c9-b670c8f18941",
   "metadata": {},
   "outputs": [
    {
     "data": {
      "text/html": [
       "0.316584702148091"
      ],
      "text/latex": [
       "0.316584702148091"
      ],
      "text/markdown": [
       "0.316584702148091"
      ],
      "text/plain": [
       "[1] 0.3165847"
      ]
     },
     "metadata": {},
     "output_type": "display_data"
    },
    {
     "data": {
      "text/html": [
       "0.447746409113422"
      ],
      "text/latex": [
       "0.447746409113422"
      ],
      "text/markdown": [
       "0.447746409113422"
      ],
      "text/plain": [
       "[1] 0.4477464"
      ]
     },
     "metadata": {},
     "output_type": "display_data"
    },
    {
     "data": {
      "text/html": [
       "0.314239119373245"
      ],
      "text/latex": [
       "0.314239119373245"
      ],
      "text/markdown": [
       "0.314239119373245"
      ],
      "text/plain": [
       "[1] 0.3142391"
      ]
     },
     "metadata": {},
     "output_type": "display_data"
    },
    {
     "data": {
      "text/html": [
       "0.241879384326992"
      ],
      "text/latex": [
       "0.241879384326992"
      ],
      "text/markdown": [
       "0.241879384326992"
      ],
      "text/plain": [
       "[1] 0.2418794"
      ]
     },
     "metadata": {},
     "output_type": "display_data"
    }
   ],
   "source": [
    "sd(x)/mean(x)\n",
    "3.616/8.076\n",
    "sd(z)/mean(z)\n",
    "66.065/273.132"
   ]
  },
  {
   "cell_type": "code",
   "execution_count": 19,
   "id": "d79f55b2-5e68-4bde-9f93-79e6e17075f3",
   "metadata": {},
   "outputs": [
    {
     "data": {
      "text/plain": [
       "   Min. 1st Qu.  Median    Mean 3rd Qu.    Max. \n",
       "  0.238   1.848   3.034   4.337   4.870  17.696 "
      ]
     },
     "metadata": {},
     "output_type": "display_data"
    },
    {
     "data": {
      "text/html": [
       "11.786"
      ],
      "text/latex": [
       "11.786"
      ],
      "text/markdown": [
       "11.786"
      ],
      "text/plain": [
       "[1] 11.786"
      ]
     },
     "metadata": {},
     "output_type": "display_data"
    },
    {
     "data": {
      "image/png": "[encoded data removed]",
      "text/plain": [
       "plot without title"
      ]
     },
     "metadata": {
      "image/png": {
       "height": 420,
       "width": 420
      }
     },
     "output_type": "display_data"
    }
   ],
   "source": [
    "set.seed(1)\n",
    "w = round(rexp(30,0.25),3)\n",
    "boxplot(w)\n",
    "summary(w)\n",
    "max(x)"
   ]
  },
  {
   "cell_type": "code",
   "execution_count": 3,
   "id": "64e3ea63-efca-40d2-856d-c2539b1d46dd",
   "metadata": {},
   "outputs": [
    {
     "data": {
      "text/html": [
       "-2.685"
      ],
      "text/latex": [
       "-2.685"
      ],
      "text/markdown": [
       "-2.685"
      ],
      "text/plain": [
       "[1] -2.685"
      ]
     },
     "metadata": {},
     "output_type": "display_data"
    }
   ],
   "source": [
    "1.848 - 1.5*(4.870-1.848)"
   ]
  },
  {
   "cell_type": "code",
   "execution_count": 22,
   "id": "f98282b4-cbef-4e13-8af6-e25c9b1e2eb2",
   "metadata": {},
   "outputs": [
    {
     "data": {
      "text/html": [
       "9.403"
      ],
      "text/latex": [
       "9.403"
      ],
      "text/markdown": [
       "9.403"
      ],
      "text/plain": [
       "[1] 9.403"
      ]
     },
     "metadata": {},
     "output_type": "display_data"
    }
   ],
   "source": [
    "4.870 + 1.5*(4.870-1.848)"
   ]
  }
 ],
 "metadata": {
  "kernelspec": {
   "display_name": "R",
   "language": "R",
   "name": "ir"
  },
  "language_info": {
   "codemirror_mode": "r",
   "file_extension": ".r",
   "mimetype": "text/x-r-source",
   "name": "R",
   "pygments_lexer": "r",
   "version": "4.3.3"
  }
 },
 "nbformat": 4,
 "nbformat_minor": 5
}
